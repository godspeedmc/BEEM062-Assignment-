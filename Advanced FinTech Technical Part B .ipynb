{
 "cells": [
  {
   "cell_type": "markdown",
   "id": "6866ab1e",
   "metadata": {},
   "source": [
    "# 1 Front End Coding (40 marks)\n",
    "# 1.1 Wallet (15 marks)\n"
   ]
  },
  {
   "cell_type": "markdown",
   "id": "9770b45d",
   "metadata": {},
   "source": [
    "# 1.2 Web Page with Financial Literacy Game (25 marks)"
   ]
  },
  {
   "cell_type": "code",
   "execution_count": 106,
   "id": "89778425",
   "metadata": {},
   "outputs": [
    {
     "name": "stdout",
     "output_type": "stream",
     "text": [
      "Defaulting to user installation because normal site-packages is not writeable\n",
      "Requirement already satisfied: quandl in c:\\users\\michael cheung\\appdata\\roaming\\python\\python39\\site-packages (3.7.0)\n",
      "Requirement already satisfied: pandas>=0.14 in c:\\programdata\\anaconda3\\lib\\site-packages (from quandl) (1.4.4)\n",
      "Requirement already satisfied: six in c:\\programdata\\anaconda3\\lib\\site-packages (from quandl) (1.16.0)\n",
      "Requirement already satisfied: more-itertools in c:\\users\\michael cheung\\appdata\\roaming\\python\\python39\\site-packages (from quandl) (9.1.0)\n",
      "Requirement already satisfied: numpy>=1.8 in c:\\programdata\\anaconda3\\lib\\site-packages (from quandl) (1.21.5)\n",
      "Requirement already satisfied: inflection>=0.3.1 in c:\\programdata\\anaconda3\\lib\\site-packages (from quandl) (0.5.1)\n",
      "Requirement already satisfied: python-dateutil in c:\\programdata\\anaconda3\\lib\\site-packages (from quandl) (2.8.2)\n",
      "Requirement already satisfied: requests>=2.7.0 in c:\\programdata\\anaconda3\\lib\\site-packages (from quandl) (2.28.1)\n",
      "Requirement already satisfied: pytz>=2020.1 in c:\\programdata\\anaconda3\\lib\\site-packages (from pandas>=0.14->quandl) (2022.1)\n",
      "Requirement already satisfied: urllib3<1.27,>=1.21.1 in c:\\programdata\\anaconda3\\lib\\site-packages (from requests>=2.7.0->quandl) (1.26.11)\n",
      "Requirement already satisfied: idna<4,>=2.5 in c:\\programdata\\anaconda3\\lib\\site-packages (from requests>=2.7.0->quandl) (3.3)\n",
      "Requirement already satisfied: charset-normalizer<3,>=2 in c:\\programdata\\anaconda3\\lib\\site-packages (from requests>=2.7.0->quandl) (2.0.4)\n",
      "Requirement already satisfied: certifi>=2017.4.17 in c:\\programdata\\anaconda3\\lib\\site-packages (from requests>=2.7.0->quandl) (2022.9.14)\n",
      "Defaulting to user installation because normal site-packages is not writeable\n",
      "Requirement already satisfied: cryptocompare in c:\\users\\michael cheung\\appdata\\roaming\\python\\python39\\site-packages (0.7.6)\n",
      "Requirement already satisfied: requests in c:\\programdata\\anaconda3\\lib\\site-packages (from cryptocompare) (2.28.1)\n",
      "Requirement already satisfied: charset-normalizer<3,>=2 in c:\\programdata\\anaconda3\\lib\\site-packages (from requests->cryptocompare) (2.0.4)\n",
      "Requirement already satisfied: certifi>=2017.4.17 in c:\\programdata\\anaconda3\\lib\\site-packages (from requests->cryptocompare) (2022.9.14)\n",
      "Requirement already satisfied: idna<4,>=2.5 in c:\\programdata\\anaconda3\\lib\\site-packages (from requests->cryptocompare) (3.3)\n",
      "Requirement already satisfied: urllib3<1.27,>=1.21.1 in c:\\programdata\\anaconda3\\lib\\site-packages (from requests->cryptocompare) (1.26.11)\n"
     ]
    }
   ],
   "source": [
    "import json \n",
    "import requests\n",
    "import os \n",
    "import pandas_datareader as pdr\n",
    "import pandas as pd\n",
    "import datetime\n",
    "\n",
    "!pip install quandl\n",
    "!pip install cryptocompare\n",
    "\n",
    "import quandl\n",
    "import cryptocompare"
   ]
  },
  {
   "cell_type": "markdown",
   "id": "9bbef20a",
   "metadata": {},
   "source": [
    "# 2 Time Series and GD in Python and NumPy (15 marks)"
   ]
  },
  {
   "cell_type": "code",
   "execution_count": 107,
   "id": "0f573d06",
   "metadata": {},
   "outputs": [],
   "source": [
    "# Set up API keys\n",
    "quandl.ApiConfig.api_key = \"Qs9gdP3HzSyXtuPdS-FF\"\n",
    "cryptocompare.api_key = \"7b2846e17983e5ea4466a5ca5e45789d41ca5f164b65466e3ceadca058a153b2\""
   ]
  },
  {
   "cell_type": "code",
   "execution_count": 108,
   "id": "83308016",
   "metadata": {},
   "outputs": [],
   "source": [
    "# Fetch data from Quandl API\n",
    "start_date = \"2018-01-01\"\n",
    "end_date = \"2022-12-31\"\n",
    "xt = quandl.get(\"WIKI/GOOGL\", start_date=start_date, end_date=end_date)[\"Close\"]"
   ]
  },
  {
   "cell_type": "code",
   "execution_count": 109,
   "id": "c6a5f946",
   "metadata": {},
   "outputs": [],
   "source": [
    "# Fetch data from CryptoCompare API\n",
    "from datetime import datetime\n",
    "\n",
    "cc_hist = cryptocompare.get_historical_price_day(\n",
    "    \"BTC\", currency=\"USD\", toTs=datetime.strptime(end_date, \"%Y-%m-%d\"), limit=365\n",
    ")\n",
    "yt = pd.DataFrame(cc_hist)[\"close\"]"
   ]
  },
  {
   "cell_type": "code",
   "execution_count": 110,
   "id": "b5f97844",
   "metadata": {},
   "outputs": [],
   "source": [
    "# Make sure both time series have the same length\n",
    "min_len = min(len(xt), len(yt))\n",
    "xt = xt[-min_len:].values\n",
    "yt = yt[-min_len:].values"
   ]
  },
  {
   "cell_type": "code",
   "execution_count": 111,
   "id": "02b33785",
   "metadata": {},
   "outputs": [
    {
     "name": "stdout",
     "output_type": "stream",
     "text": [
      "Analytical OLS estimates (α, β): [17154.70169492  -188.63597584]\n"
     ]
    }
   ],
   "source": [
    "import numpy as np\n",
    "\n",
    "# Normalize the input data\n",
    "xt_normalized = (xt - np.mean(xt)) / np.std(xt)\n",
    "\n",
    "# Analytical OLS estimation\n",
    "X = np.column_stack((np.ones(min_len), xt_normalized))\n",
    "Y = yt.reshape(-1, 1)\n",
    "beta = np.linalg.inv(X.T @ X) @ X.T @ Y\n",
    "\n",
    "print(\"Analytical OLS estimates (α, β):\", beta.ravel())"
   ]
  },
  {
   "cell_type": "code",
   "execution_count": 112,
   "id": "49af0388",
   "metadata": {},
   "outputs": [
    {
     "name": "stdout",
     "output_type": "stream",
     "text": [
      "Gradient Descent OLS estimates (α, β): [14837.77383826  -163.11383438]\n"
     ]
    }
   ],
   "source": [
    "# Gradient Descent\n",
    "alpha = 0.001  # Learning rate\n",
    "iterations = 1000\n",
    "m = min_len\n",
    "theta = np.random.randn(2, 1)  # Random initialization\n",
    "\n",
    "for _ in range(iterations):\n",
    "    gradients = 2 / m * X.T @ (X @ theta - Y)\n",
    "    theta = theta - alpha * gradients\n",
    "\n",
    "print(\"Gradient Descent OLS estimates (α, β):\", theta.ravel())"
   ]
  },
  {
   "cell_type": "markdown",
   "id": "9f74380d",
   "metadata": {},
   "source": [
    "### Written question\n",
    "1. The Gradient Descent method has a variant called Stochastic Gradient Descent(SGD). It chooses one sample at random from each cycle rather than using them all, and modifies the settings according to the gradient of that sample. This approach can help you escape local minimums and is easier on the computer, particularly for large datasets, but it might not converge as well.\n",
    "\n",
    "Reference: Kansal, S. (2020, August 18). Quick Guide to Gradient Descent and Its Variants - Towards Data Science. Medium. https://towardsdatascience.com/quick-guide-to-gradient-descent-and-its-variants-97a7afb33add\n",
    "\n",
    "\n",
    "2. Due to factors such as being nonconvex, having many dimensions, or having noisy data, it may be challenging to settle for a Loss Function minimum in practice. To overcome the issue we can regularise the loss function to prevent overfitting by adding a penalty term (using L1, L2 regularisation).\n",
    "\n",
    "Reference: regularisation.dvi.pdf on ELE\n"
   ]
  },
  {
   "cell_type": "markdown",
   "id": "e5d4bd92",
   "metadata": {},
   "source": [
    "# 3 AI and the Blockchain (15 marks)"
   ]
  },
  {
   "cell_type": "markdown",
   "id": "f05d3f8b",
   "metadata": {},
   "source": [
    "### Discuss whether Bitcoin is Turing Complete. Include reference to Ian Grigg’s paper cited on the course and contrast this view to mainstream views. Also include your own view\n",
    "\n",
    "Reference\n",
    "\n",
    "Sgantzos, K., & Grigg, I. (2019). Artificial Intelligence Implementations on the Blockchain. Use Cases and Future Applications. Future Internet. https://doi.org/10.3390/fi11080170"
   ]
  },
  {
   "cell_type": "markdown",
   "id": "54480c43",
   "metadata": {},
   "source": [
    "Grigg (2019) states that \"if the blockchain's transactional computing capability is Turing complete, then it can implement any algorithm including a cellular automaton.\" (Grigg, 2019, p.g 4). This contrast with the mainstream view that Bitcoin is not Turing complete due to the limitation that the Bitcoin script does not have the loop function (Grigg, 2019, p.g 3). It is also known that the Bitcoin script has been made to limit its capabilities, reduce possible security risks, and speed up execution.\n",
    "\n",
    "Since it lacks loops, it cannot carry out calculations that take an infinite amount of time to complete. Although Grigg's proposed series of transactions is less efficient than more traditional looping structures, it does establish a mechanism for looping (Grigg, 2019, p.g 4).\n",
    "\n",
    "Grigg's view on Transactional Turing Completeness is interesting. However, it does not imply Bitcoin is Turing complete. While Bitocin's scripting language can be used to simulate the Turing Process, the design's nature ultimately stops Bitcoin from becoming Turing Complete. Although generating a series of transactions that emulates looping capability is possible, this approach still needs to be more practical and efficient for computing designed for broader adoption.\n",
    "\n",
    "Bitcoin is not Turing Complete due to its original design purpose. It is designed to lack functionality, so there is a lower risk when executing codes. Grigg's idea is appealing but not feasible at the moment."
   ]
  },
  {
   "cell_type": "markdown",
   "id": "69ec5b8c",
   "metadata": {},
   "source": [
    "### The following conversation between your module lead and ChatGPT 3.5 happened:Module Lead: Set a discussion question about ChatGPT, requiring  about a 250 word answer. ChatGPT: Discussion Question: How does ChatGPT differ from traditional chatbots, and what are the potential benefits and drawbacks of using a large language model like ChatGPT for conversational AI? Do you think this is a good question?\n",
    "\n",
    "Reference: \n",
    "\n",
    "ChatGPT vs Traditional Chatbots: Which is Better? (2023). Paresh M Patel. https://www.pareshmpatel.com/chatgpt-vs-traditional-chatbots-which-is-better/#:~:text=Adaptability%20and%20Learning%3A%20Traditional%20chatbots,interactions%20and%20improve%20over%20time.\n"
   ]
  },
  {
   "cell_type": "markdown",
   "id": "0dd80394",
   "metadata": {},
   "source": [
    "Yes, this is an excellent discussion question. The question consists of two aspects. Firstly it covers the differentiation between ChatGPT and traditional Chatbot. This will lead students to think about the features of ChatGPT that traditional Chatbot doesn't have, as well as bring some historical context of the evolution of machine learning covered in the lecture and neural networks, which is beyond the scope of the course. This will give students opportunities to link these with the development of ChatGPT.\n",
    "\n",
    "Secondly, the question makes students reflect on how ChatGPT impacts the status quo of traditional Chatbot and the potential pros and cons it brings. For example, building a conventional Chatbot is cheaper and less complex, making it easier to implement and integrate into a platform. On the contrary, ChatGPT is a natural language processing technique that uses deep learning to generate human-like responses to questions. This requires a high level of language understanding, and the output may not be more predictable and straightforward than traditional Chatbot. What you get depends on the quality of your instructions to the model. (Paresh M Patel, 2023).\n",
    "\n",
    "Overall, the suggested discussion question is well-thought-out and on-topic because it addresses the development of conversational AI and prompts an assessment of the pros and cons of employing cutting-edge models like ChatGPT. This question will keep students updated on the continued growth of conversational AI and encourages them to think critically about its impact on our society."
   ]
  },
  {
   "cell_type": "markdown",
   "id": "f1ba7a68",
   "metadata": {},
   "source": [
    "### Finally, in another 250 words to what extent do you think Blockchain technology could provide a solution to any systemic problems coming from AI? (again refer to the Ian Grigg paper, amongst other sources).\n",
    "\n",
    "Reference:\n",
    "\n",
    "Sgantzos, K., & Grigg, I. (2019). Artificial Intelligence Implementations on the Blockchain. Use Cases and Future Applications. Future Internet. https://doi.org/10.3390/fi11080170"
   ]
  },
  {
   "cell_type": "markdown",
   "id": "84119915",
   "metadata": {},
   "source": [
    "Grigg's (2019) paper proposes several practical solutions to the systematic problems artificial intelligence brings. Firstly, Blockchain can ensure data integrity. Integrity is a method for ensuring the trustworthiness of data that has resulted from the development of cryptographic tools like digital signatures and hashes. Timestamping entails adding a document's hash to an unending chain of hashes generated regularly. Each block's time and the gaps between blocks ensure the accuracy of the time stamp(Grigg, 2019, p.5).\n",
    "\n",
    "Secondly, Blockchain can ensure data security. With a digital signature, only the authorised pseudonymous agent can add new transactions to a blockchain. It's free and can be used for more than just money transfers, so it's hard for hackers to sneak in malicious code(Grigg, 2019, p.5).\n",
    "\n",
    "Thirdly, Blockchain can solve the bias issue since its DLT technology can allow transparent access to data on the system. To avoid inconsistent data sets and erroneous results, triple-entry accounting ensures that software only uses reliable raw data as facts generated by third parties. This makes it easier for AI developers when creating datasets to train their algorithms(Grigg, 2019, p.6).\n",
    "\n",
    "Last but not least, Blockchain gives accountability to AI systems since it uses transparent data that are tampered-proof, ensuring that every decision is broadcast to everyone, preventing suspicious behaviour.\n"
   ]
  },
  {
   "cell_type": "markdown",
   "id": "b5e4a162",
   "metadata": {},
   "source": [
    "# 4 Time Series Forecasting (30 marks)"
   ]
  },
  {
   "cell_type": "markdown",
   "id": "54c822f7",
   "metadata": {},
   "source": [
    "### Stage 1: Description and Factors\n",
    "\n"
   ]
  },
  {
   "cell_type": "markdown",
   "id": "2c74e727",
   "metadata": {},
   "source": [
    "Description:\n",
    "\n",
    "The selection of the BTC/USD time series was based on the increasing importance of Bitcoin as a digital asset and its potential impact on the worldwide financial system. The increasig interest of investors, institutions, and regulators towards Bitcoin has rendered it imperative to comprehend the determinants that influence its valuation. Examining the correlations between BTC/USD and diverse economic indicators can yield significant findings regarding the dynamics of Bitcoin's valuation and its prospective function as an alternative investment vehicle.\n",
    "\n",
    "\n",
    "Factors chosen:\n",
    "\n",
    "1. Gold price (ID7108): As a traditional store of value, gold's price could affect Bitcoin's appeal as an alternative asset.\n",
    "    \n",
    "2. S&P 500 (SP500): Stock market performance may impact investor sentiment and influence Bitcoin's price as a speculative investment.\n",
    "\n",
    "3. WTI Crude Oil price (DCOILWTICO): Fluctuations in oil prices can affect the overall economic outlook and impact Bitcoin's attractiveness.\n",
    "    \n",
    "4. CBOE Volatility Index (VIXCLS): The VIX can be an indicator of market sentiment and risk aversion, which could influence investors' interest in Bitcoin.\n",
    "    `\n",
    "5. Nominal Broad U.S. Dollar Index (DTWEXBGS): Changes in the value of the U.S. dollar can affect the value of Bitcoin in terms of USD.\n",
    "\n",
    "6. Federal Funds Effective Rate (FEDFUNDS): Interest rate changes may impact investor preferences for riskier assets like cryptocurrencies.\n",
    "    \n",
    "7. Inflation rate (CPALTT01USM657N): Inflation can drive investors towards alternative stores of value like Bitcoin. \n",
    "\n",
    "8. Unemployment rate (UNRATE): Economic conditions, as reflected in unemployment rates, can impact the demand for cryptocurrencies.\n",
    "    \n",
    "9. 10-Year Real Interest Rate (REAINTRATREARAT10Y): Long-term interest rates can influence investment decisions and impact the attractiveness of Bitcoin.\n",
    "    \n",
    "10. Real Risk Premium (TENEXPCHAREARISPRE): The risk premium may affect investors' appetite for riskier assets like cryptocurrencies."
   ]
  },
  {
   "cell_type": "markdown",
   "id": "29475ba8",
   "metadata": {},
   "source": [
    "### Stage 2: Analysis"
   ]
  },
  {
   "cell_type": "code",
   "execution_count": 113,
   "id": "ce226e2e",
   "metadata": {},
   "outputs": [],
   "source": [
    "import numpy as np\n",
    "import pandas as pd\n",
    "import matplotlib.pyplot as plt\n",
    "from sklearn.linear_model import ElasticNet\n",
    "from sklearn.model_selection import train_test_split\n",
    "from sklearn.metrics import mean_squared_error, mean_absolute_error, r2_score"
   ]
  },
  {
   "cell_type": "code",
   "execution_count": 114,
   "id": "656bc184",
   "metadata": {},
   "outputs": [],
   "source": [
    "from fredapi import Fred\n",
    "fred = Fred(api_key='347930fc73eb3d0d137f231467286220')"
   ]
  },
  {
   "cell_type": "code",
   "execution_count": 115,
   "id": "648ee8bc",
   "metadata": {},
   "outputs": [
    {
     "data": {
      "text/plain": [
       "<AxesSubplot:>"
      ]
     },
     "execution_count": 115,
     "metadata": {},
     "output_type": "execute_result"
    },
    {
     "data": {
      "image/png": "[encoded data removed]",
      "text/plain": [
       "<Figure size 640x480 with 1 Axes>"
      ]
     },
     "metadata": {},
     "output_type": "display_data"
    }
   ],
   "source": [
    "# Data\n",
    "bitcoinprice =fred.get_series('CBBTCUSD')\n",
    "bitcoinprice.plot()"
   ]
  },
  {
   "cell_type": "code",
   "execution_count": 116,
   "id": "1aa6a07e",
   "metadata": {},
   "outputs": [],
   "source": [
    "#Convert data to a pandas DataFrame and set the index as a datetime index:\n",
    "bitcoinprice_df = pd.DataFrame(bitcoinprice, columns=[\"Price\"])\n",
    "bitcoinprice_df.index = pd.to_datetime(bitcoinprice_df.index)\n",
    "\n",
    "# Resample data\n",
    "data_resampled = bitcoinprice_df.resample(\"D\").mean()\n",
    "\n",
    "#Handle missing data\n",
    "data_clean = data_resampled.fillna(method='ffill')\n",
    "\n",
    "#Normalize the data\n",
    "data_normalized = (data_clean - data_clean.min()) / (data_clean.max() - data_clean.min())"
   ]
  },
  {
   "cell_type": "code",
   "execution_count": 117,
   "id": "56c710ea",
   "metadata": {},
   "outputs": [],
   "source": [
    "# List of additional variable codes from FRED\n",
    "variable_chosen = [\n",
    "    'ID7108',            # Gold price\n",
    "    'SP500',             # S&P 500\n",
    "    'DCOILWTICO',        # WTI Crude Oil price\n",
    "    'VIXCLS',            # CBOE Volatility Index:(VIXCLS)\n",
    "    'DTWEXBGS',          # Nominal Broad U.S. Dollar Index \n",
    "    'FEDFUNDS',          # Federal Funds Effective Rate (FEDFUNDS)\n",
    "    'CPALTT01USM657N',   # Inflation rate (CPI)\n",
    "    'UNRATE',            # Unemployment rate\n",
    "    'REAINTRATREARAT10Y',#10-Year Real Interest Rate (REAINTRATREARAT10Y)\n",
    "    'TENEXPCHAREARISPRE',#Real Risk Premium (TENEXPCHAREARISPRE)\n",
    "]\n",
    "\n",
    "# Collect the data for each variable\n",
    "additional_data = {}\n",
    "for chosen in variable_chosen:\n",
    "    additional_data[chosen] = fred.get_series(chosen)"
   ]
  },
  {
   "cell_type": "code",
   "execution_count": 118,
   "id": "059f17a4",
   "metadata": {},
   "outputs": [],
   "source": [
    "import pandas as pd\n",
    "\n",
    "# Combine all the data into a single DataFrame\n",
    "all_data = pd.concat([bitcoinprice] + list(additional_data.values()), axis=1)\n",
    "all_data.columns = ['BTC_USD'] + variable_chosen"
   ]
  },
  {
   "cell_type": "code",
   "execution_count": 119,
   "id": "12bef482",
   "metadata": {},
   "outputs": [],
   "source": [
    "# Resample to daily frequency\n",
    "all_data = all_data.resample('D').mean()\n",
    "\n",
    "# Handle missing values (e.g., forward-fill)\n",
    "all_data.fillna(method='ffill', inplace=True)\n",
    "\n",
    "# Normalize the data\n",
    "all_data_normalized = (all_data - all_data.mean()) / all_data.std()"
   ]
  },
  {
   "cell_type": "code",
   "execution_count": 120,
   "id": "585e28b5",
   "metadata": {},
   "outputs": [],
   "source": [
    "from sklearn.linear_model import ElasticNet\n",
    "from sklearn.model_selection import train_test_split\n",
    "from sklearn.metrics import mean_squared_error\n",
    "\n",
    "import numpy as np\n",
    "\n",
    "# Drop any rows with NaN values\n",
    "all_data_normalized = all_data_normalized.dropna()\n",
    "\n",
    "# Replace infinity values with large finite numbers\n",
    "all_data_normalized = all_data_normalized.replace([np.inf, -np.inf], np.finfo(np.float64).max)\n",
    "\n",
    "# Define the target variable and features\n",
    "X = all_data_normalized.drop(columns='BTC_USD')\n",
    "y = all_data_normalized['BTC_USD']"
   ]
  },
  {
   "cell_type": "code",
   "execution_count": 121,
   "id": "0245be03",
   "metadata": {},
   "outputs": [],
   "source": [
    "# Split the data into training and testing sets\n",
    "X_train, X_test, y_train, y_test = train_test_split(X, y, test_size=0.2, random_state=42)"
   ]
  },
  {
   "cell_type": "code",
   "execution_count": 122,
   "id": "b5b907a9",
   "metadata": {},
   "outputs": [
    {
     "data": {
      "text/plain": [
       "ElasticNet(alpha=0.1)"
      ]
     },
     "execution_count": 122,
     "metadata": {},
     "output_type": "execute_result"
    }
   ],
   "source": [
    "# Train the Elastic Net model\n",
    "model = ElasticNet(alpha=0.1, l1_ratio=0.5)\n",
    "model.fit(X_train, y_train)"
   ]
  },
  {
   "cell_type": "code",
   "execution_count": 123,
   "id": "1b2a332b",
   "metadata": {},
   "outputs": [
    {
     "name": "stdout",
     "output_type": "stream",
     "text": [
      "Training Mean Squared Error: 0.1803011413739454\n",
      "Training Mean Absolute Error: 0.27979241626252355\n",
      "Training R^2 Score: 0.8221414650700191\n",
      "Test Mean Squared Error: 0.16193861455956046\n",
      "Test Mean Absolute Error: 0.2705436638582106\n",
      "Test R^2 Score: 0.8281300161934251\n"
     ]
    }
   ],
   "source": [
    "# Make predictions and evaluate the performance on the training data\n",
    "y_pred_train = model.predict(X_train)\n",
    "mse_train = mean_squared_error(y_train, y_pred_train)\n",
    "mae_train = mean_absolute_error(y_train, y_pred_train)\n",
    "r2_train = r2_score(y_train, y_pred_train)\n",
    "print(f'Training Mean Squared Error: {mse_train}')\n",
    "print(f'Training Mean Absolute Error: {mae_train}')\n",
    "print(f'Training R^2 Score: {r2_train}')\n",
    "\n",
    "# Make predictions and evaluate the performance on the test data\n",
    "y_pred_test = model.predict(X_test)\n",
    "mse_test = mean_squared_error(y_test, y_pred_test)\n",
    "mae_test = mean_absolute_error(y_test, y_pred_test)\n",
    "r2_test = r2_score(y_test, y_pred_test)\n",
    "print(f'Test Mean Squared Error: {mse_test}')\n",
    "print(f'Test Mean Absolute Error: {mae_test}')\n",
    "print(f'Test R^2 Score: {r2_test}')"
   ]
  },
  {
   "cell_type": "code",
   "execution_count": 124,
   "id": "bb62e8d4",
   "metadata": {},
   "outputs": [
    {
     "name": "stdout",
     "output_type": "stream",
     "text": [
      "Variable Importance:\n",
      "SP500                 0.807503\n",
      "CPALTT01USM657N       0.107987\n",
      "FEDFUNDS              0.105629\n",
      "TENEXPCHAREARISPRE    0.009701\n",
      "ID7108                0.000000\n",
      "DCOILWTICO            0.000000\n",
      "VIXCLS                0.000000\n",
      "DTWEXBGS              0.000000\n",
      "UNRATE                0.000000\n",
      "REAINTRATREARAT10Y    0.000000\n",
      "dtype: float64\n"
     ]
    }
   ],
   "source": [
    "# Get the variable importance\n",
    "variable_importance = pd.Series(model.coef_, index=X.columns)\n",
    "\n",
    "# Sort the variable importance\n",
    "sorted_importance = variable_importance.abs().sort_values(ascending=False)\n",
    "\n",
    "# Print the variable importance\n",
    "print(\"Variable Importance:\")\n",
    "print(sorted_importance)"
   ]
  },
  {
   "cell_type": "code",
   "execution_count": 125,
   "id": "e429c33d",
   "metadata": {},
   "outputs": [
    {
     "data": {
      "image/png": "[encoded data removed]",
      "text/plain": [
       "<Figure size 640x480 with 1 Axes>"
      ]
     },
     "metadata": {},
     "output_type": "display_data"
    }
   ],
   "source": [
    "import matplotlib.dates as mdates\n",
    "\n",
    "# Convert index back to datetime\n",
    "y_test_datetime = pd.Series(y_test * all_data.std()['BTC_USD'] + all_data.mean()['BTC_USD'], index=y_test.index)\n",
    "y_pred_datetime = pd.Series(y_pred * all_data.std()['BTC_USD'] + all_data.mean()['BTC_USD'], index=y_test.index)\n",
    "\n",
    "# Create a DataFrame containing actual and predicted values\n",
    "actual_vs_predicted = pd.DataFrame({\"Actual\": y_test_datetime, \"Predicted\": y_pred_datetime})\n",
    "\n",
    "# Resample the DataFrame to annual frequency\n",
    "actual_vs_predicted_annual = actual_vs_predicted.resample(\"Y\").mean()\n",
    "\n",
    "# Plot the Actual vs Predicted lines\n",
    "fig, ax = plt.subplots()\n",
    "ax.plot(actual_vs_predicted_annual.index, actual_vs_predicted_annual[\"Actual\"], label=\"Actual\")\n",
    "ax.plot(actual_vs_predicted_annual.index, actual_vs_predicted_annual[\"Predicted\"], label=\"Predicted\")\n",
    "ax.set_xlabel(\"Year\")\n",
    "ax.set_ylabel(\"Price\")\n",
    "ax.legend()\n",
    "ax.xaxis.set_major_formatter(mdates.DateFormatter(\"%Y\"))\n",
    "ax.set_title(\"BTC/USD Actual vs Predicted\")\n",
    "\n",
    "plt.show()"
   ]
  },
  {
   "cell_type": "markdown",
   "id": "e402d41e",
   "metadata": {},
   "source": [
    "Elastic Net's performance seems a good fit. First, training and test MSE values are 0.1803 and 0.1619. The model performs similarly on training and test data, showing neither overfitting nor underfitting. Training MAE is 0.2798, test MAE is 0.2705. The model performs similarly on training and test data since the MSE and MAE values are close.\n",
    "\n",
    "Training and test R^2 scores are 0.8221 and 0.8281, respectively. The model explains 82% of the target variable's variation. Financial data is hard to model and predict. Therefore, this is beneficial.\n",
    "\n",
    "The model's coefficient of 0.8075 suggests that the S&P 500 (SP500) is significant. Inflation (CPALTT01USM657N) and the Federal Funds Effective Rate (FEDFUNDS) contribute less. Gold price (ID7108), WTI Crude Oil price (DCOILWTICO), and unemployment rate (UNRATE) are irrelevant to the model's forecasts.\n",
    "\n",
    "Overall, Elastic Net performs well. However, these metrics have limitations. Data for the factors are called from FRED API and are used to scrutinise the correlation between the value of Bitcoin and macroeconomic determinants. Certain variables may be difficult to measure, such as the effects of changes in regulations, geopolitical occurrences, or technological progressions within the blockchain space. "
   ]
  }
 ],
 "metadata": {
  "kernelspec": {
   "display_name": "Python 3 (ipykernel)",
   "language": "python",
   "name": "python3"
  },
  "language_info": {
   "codemirror_mode": {
    "name": "ipython",
    "version": 3
   },
   "file_extension": ".py",
   "mimetype": "text/x-python",
   "name": "python",
   "nbconvert_exporter": "python",
   "pygments_lexer": "ipython3",
   "version": "3.9.13"
  }
 },
 "nbformat": 4,
 "nbformat_minor": 5
}
